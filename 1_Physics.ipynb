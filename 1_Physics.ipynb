{
 "cells": [
  {
   "attachments": {},
   "cell_type": "markdown",
   "metadata": {},
   "source": [
    "<h1 align=\"center\"><font color=\"yellow\">Physics: Exercício 1 em Python</font></h1>"
   ]
  },
  {
   "attachments": {},
   "cell_type": "markdown",
   "metadata": {},
   "source": [
    "<font color=\"yellow\">Data Scientist.: PhD.Eddy Giusepe Chirinos Isidro</font>"
   ]
  },
  {
   "attachments": {},
   "cell_type": "markdown",
   "metadata": {},
   "source": [
    "Este script foi baseado no maravilhoso tutorial de [Mr.P Solver]()."
   ]
  },
  {
   "attachments": {},
   "cell_type": "markdown",
   "metadata": {},
   "source": [
    "# Setup"
   ]
  },
  {
   "attachments": {},
   "cell_type": "markdown",
   "metadata": {},
   "source": [
    "Aqui estamos trabalhando com `conda`:\n",
    "\n",
    "```\n",
    "conda create -n env_Fisica python=3.11.4\n",
    "```"
   ]
  },
  {
   "cell_type": "code",
   "execution_count": 1,
   "metadata": {},
   "outputs": [
    {
     "name": "stdout",
     "output_type": "stream",
     "text": [
      "Retrieving notices: ...working... done\n",
      "Collecting package metadata (current_repodata.json): done\n",
      "Solving environment: done\n",
      "\n",
      "\n",
      "==> WARNING: A newer version of conda exists. <==\n",
      "  current version: 23.3.1\n",
      "  latest version: 23.9.0\n",
      "\n",
      "Please update conda by running\n",
      "\n",
      "    $ conda update -n base -c conda-forge conda\n",
      "\n",
      "Or to minimize the number of packages updated during conda update use\n",
      "\n",
      "     conda install conda=23.9.0\n",
      "\n",
      "\n",
      "\n",
      "## Package Plan ##\n",
      "\n",
      "  environment location: /home/eddygiusepe/miniconda3/envs/LightningAI\n",
      "\n",
      "  added / updated specs:\n",
      "    - matplotlib\n",
      "    - numpy\n",
      "    - pandas\n",
      "    - scipy\n",
      "\n",
      "\n",
      "The following packages will be downloaded:\n",
      "\n",
      "    package                    |            build\n",
      "    ---------------------------|-----------------\n",
      "    numpy-1.26.0               |   py39h474f0d3_0         6.5 MB  conda-forge\n",
      "    pandas-2.1.1               |   py39hddac248_1        11.7 MB  conda-forge\n",
      "    ------------------------------------------------------------\n",
      "                                           Total:        18.3 MB\n",
      "\n",
      "The following packages will be UPDATED:\n",
      "\n",
      "  ca-certificates                       2023.5.7-hbcca054_0 --> 2023.7.22-hbcca054_0 \n",
      "  certifi                             2023.5.7-pyhd8ed1ab_0 --> 2023.7.22-pyhd8ed1ab_0 \n",
      "  numpy                               1.24.3-py39h6183b62_0 --> 1.26.0-py39h474f0d3_0 \n",
      "  openssl                                  3.1.1-hd590300_1 --> 3.1.3-hd590300_0 \n",
      "  pandas                               2.0.1-py39h40cae4c_1 --> 2.1.1-py39hddac248_1 \n",
      "\n",
      "\n",
      "\n",
      "Downloading and Extracting Packages\n",
      "numpy-1.26.0         | 6.5 MB    |                                       |   0% \n",
      "pandas-2.1.1         | 11.7 MB   |                                       |   0% \u001b[A\n",
      "numpy-1.26.0         | 6.5 MB    |                                       |   0% \u001b[A\n",
      "numpy-1.26.0         | 6.5 MB    | 7                                     |   2% \u001b[A\n",
      "numpy-1.26.0         | 6.5 MB    | #9                                    |   5% \u001b[A\n",
      "numpy-1.26.0         | 6.5 MB    | ###2                                  |   9% \u001b[A\n",
      "numpy-1.26.0         | 6.5 MB    | #####                                 |  14% \u001b[A\n",
      "pandas-2.1.1         | 11.7 MB   | ########9                             |  24% \u001b[A\n",
      "pandas-2.1.1         | 11.7 MB   | ##########9                           |  30% \u001b[A\n",
      "pandas-2.1.1         | 11.7 MB   | #############                         |  35% \u001b[A\n",
      "pandas-2.1.1         | 11.7 MB   | ###############2                      |  41% \u001b[A\n",
      "numpy-1.26.0         | 6.5 MB    | ######1                               |  17% \u001b[A\n",
      "numpy-1.26.0         | 6.5 MB    | ############6                         |  34% \u001b[A\n",
      "pandas-2.1.1         | 11.7 MB   | ######################9               |  62% \u001b[A\n",
      "numpy-1.26.0         | 6.5 MB    | ###############2                      |  41% \u001b[A\n",
      "numpy-1.26.0         | 6.5 MB    | #################4                    |  47% \u001b[A\n",
      "numpy-1.26.0         | 6.5 MB    | ####################1                 |  54% \u001b[A\n",
      "pandas-2.1.1         | 11.7 MB   | ##################################    |  92% \u001b[A\n",
      "numpy-1.26.0         | 6.5 MB    | ################################6     |  88% \u001b[A\n",
      "                                                                                \u001b[A\n",
      "                                                                                \u001b[A\n",
      "Preparing transaction: done\n",
      "Verifying transaction: done\n",
      "Executing transaction: done\n",
      "\n",
      "Note: you may need to restart the kernel to use updated packages.\n"
     ]
    }
   ],
   "source": [
    "%conda install numpy pandas matplotlib scipy --yes"
   ]
  },
  {
   "cell_type": "code",
   "execution_count": 1,
   "metadata": {},
   "outputs": [
    {
     "name": "stdout",
     "output_type": "stream",
     "text": [
      "Retrieving notices: ...working... done\n",
      "Collecting package metadata (current_repodata.json): done\n",
      "Solving environment: done\n",
      "\n",
      "\n",
      "==> WARNING: A newer version of conda exists. <==\n",
      "  current version: 23.3.1\n",
      "  latest version: 23.10.0\n",
      "\n",
      "Please update conda by running\n",
      "\n",
      "    $ conda update -n base -c conda-forge conda\n",
      "\n",
      "Or to minimize the number of packages updated during conda update use\n",
      "\n",
      "     conda install conda=23.10.0\n",
      "\n",
      "\n",
      "\n",
      "## Package Plan ##\n",
      "\n",
      "  environment location: /home/eddygiusepe/miniconda3/envs/LightningAI\n",
      "\n",
      "  added / updated specs:\n",
      "    - watermark\n",
      "\n",
      "\n",
      "The following packages will be downloaded:\n",
      "\n",
      "    package                    |            build\n",
      "    ---------------------------|-----------------\n",
      "    ca-certificates-2023.11.17 |       hbcca054_0         151 KB  conda-forge\n",
      "    certifi-2023.11.17         |     pyhd8ed1ab_0         155 KB  conda-forge\n",
      "    openssl-3.1.4              |       hd590300_0         2.5 MB  conda-forge\n",
      "    ------------------------------------------------------------\n",
      "                                           Total:         2.8 MB\n",
      "\n",
      "The following packages will be UPDATED:\n",
      "\n",
      "  ca-certificates                      2023.7.22-hbcca054_0 --> 2023.11.17-hbcca054_0 \n",
      "  certifi                            2023.7.22-pyhd8ed1ab_0 --> 2023.11.17-pyhd8ed1ab_0 \n",
      "  openssl                                  3.1.3-hd590300_0 --> 3.1.4-hd590300_0 \n",
      "\n",
      "\n",
      "\n",
      "Downloading and Extracting Packages\n",
      "ca-certificates-2023 | 151 KB    |                                       |   0% \n",
      "certifi-2023.11.17   | 155 KB    |                                       |   0% \u001b[A\n",
      "\n",
      "openssl-3.1.4        | 2.5 MB    |                                       |   0% \u001b[A\u001b[A\n",
      "\n",
      "openssl-3.1.4        | 2.5 MB    | 2                                     |   1% \u001b[A\u001b[A\n",
      "certifi-2023.11.17   | 155 KB    | ###8                                  |  10% \u001b[A\n",
      "\n",
      "ca-certificates-2023 | 151 KB    | ###9                                  |  11% \u001b[A\u001b[A\n",
      "certifi-2023.11.17   | 155 KB    | ##############################5       |  82% \u001b[A\n",
      "certifi-2023.11.17   | 155 KB    | ##################################### | 100% \u001b[A\n",
      "\n",
      "ca-certificates-2023 | 151 KB    | ##################################### | 100% \u001b[A\u001b[A\n",
      "\n",
      "openssl-3.1.4        | 2.5 MB    | ##########5                           |  28% \u001b[A\u001b[A\n",
      "\n",
      "openssl-3.1.4        | 2.5 MB    | ################7                     |  45% \u001b[A\u001b[A\n",
      "\n",
      "openssl-3.1.4        | 2.5 MB    | #####################7                |  59% \u001b[A\u001b[A\n",
      "\n",
      "openssl-3.1.4        | 2.5 MB    | ############################6         |  77% \u001b[A\u001b[A\n",
      "\n",
      "openssl-3.1.4        | 2.5 MB    | ####################################1 |  98% \u001b[A\u001b[A\n",
      "\n",
      "                                                                                \u001b[A\u001b[A\n",
      "                                                                                \u001b[A\n",
      "\n",
      "                                                                                \u001b[A\u001b[A\n",
      "Preparing transaction: done\n",
      "Verifying transaction: done\n",
      "Executing transaction: done\n",
      "\n",
      "Note: you may need to restart the kernel to use updated packages.\n"
     ]
    }
   ],
   "source": [
    "# Instalamos este pacote para poder visualizar nossas bibliotecas instaladas:\n",
    "%conda install watermark --yes"
   ]
  },
  {
   "cell_type": "code",
   "execution_count": 3,
   "metadata": {},
   "outputs": [
    {
     "name": "stdout",
     "output_type": "stream",
     "text": [
      "Python implementation: CPython\n",
      "Python version       : 3.9.13\n",
      "IPython version      : 8.13.2\n",
      "\n",
      "numpy     : 1.26.0\n",
      "pandas    : 2.1.1\n",
      "matplotlib: 3.7.1\n",
      "scipy     : 1.10.1\n",
      "\n"
     ]
    }
   ],
   "source": [
    "%load_ext watermark \n",
    "%watermark -v -p numpy,pandas,matplotlib,scipy"
   ]
  },
  {
   "attachments": {},
   "cell_type": "markdown",
   "metadata": {},
   "source": [
    "# O exercício"
   ]
  },
  {
   "attachments": {},
   "cell_type": "markdown",
   "metadata": {},
   "source": [
    "Uma pessoa de $80kg$ salta de um avião que se move horizontalmente a $50m/s$ ($180km/h$). Seja a velocidade deles dada por $\\vec{v}=(v_x, v_y)$. A força de atrito é dada por $\\vec{F}_f=-b|\\vec{v}|²\\hat{v}$ e a gravidade é dada por $\\vec{F}_g=-mg\\hat{y}$. Sua velocidade terminal é $v_t=-55m/s$. Encontre a velocidade $\\vec{v}(t)$ em todos os momentos e determine quanto tempo leva até que o pára-quedista chegue a $1\\%$ da velocidade terminal.\n",
    "\n",
    "\n",
    "<font color=\"orange\">Quando você análisa a queda dessa persona, temos as seguintes equações físicas:</font>\n",
    "\n",
    "$$\\vec{F} = ma = m \\binom{\\frac{dv_x}{dt}}{\\frac{dv_y}{dt}}$$\n",
    "\n",
    "Duas forças:\n",
    "\n",
    "* Gravidade: $$\\vec{F}_g = -mg = -m \\binom{0}{g}$$\n",
    "\n",
    "* Atrito: $$\\vec{F}_f = -b|\\vec{v}|\\vec{v} = -b \\sqrt{v_x^2 + v_y^2} \\binom{v_x}{v_y}$$\n",
    "\n",
    "\n"
   ]
  },
  {
   "attachments": {},
   "cell_type": "markdown",
   "metadata": {},
   "source": [
    "<font color=\"orange\">Aplicando a segunda Lei de Newton:</font>\n",
    "\n",
    "\n",
    "$$m\\binom{\\frac{dv_x}{dt}}{\\frac{dv_y}{dt}}  = -m \\binom{0}{g} -b \\sqrt{v_x^2 + v_y^2} \\binom{v_x}{v_y}$$\n",
    "\n",
    "<font color=\"orange\">Podemos obter:</font>\n",
    "\n",
    "$$\\frac{dv_x}{dt} = -\\frac{b}{m} \\sqrt{v_x^2 + v_y^2} v_x$$\n",
    "\n",
    "$$\\frac{dv_y}{dt} = -\\frac{b}{m} \\sqrt{v_x^2 + v_y^2} v_y - g$$\n",
    "\n",
    "\n",
    "\n",
    "$\\vec{S} = (v_x, v_y).$ Para resolver EDOs em Python.\n",
    "\n",
    "A seguir definimos a função que recebe $t$ e $S$ e retorna $\\frac{d\\vec{S}}{dt}$:"
   ]
  },
  {
   "cell_type": "code",
   "execution_count": 4,
   "metadata": {},
   "outputs": [],
   "source": [
    "import numpy as np\n",
    "import matplotlib.pyplot as plt\n",
    "from scipy.integrate import odeint # scipy é muito bom para resolver EDOs. Têm outras também!"
   ]
  },
  {
   "cell_type": "code",
   "execution_count": 5,
   "metadata": {},
   "outputs": [],
   "source": [
    "def dSdt(S, t, g, m, b):\n",
    "    \"\"\"Esta função retorna uma lista das derivadas de vx e vy (taxas de variação delas)\"\"\"\n",
    "    vx = S[0] # Atribui o primeiro elemento da lista 'S' à vx\n",
    "    vy = S[1] # Atribui o segundo elemento da lista 'S' à vy\n",
    "    return [\n",
    "        -b/m * np.sqrt(vx**2+vy**2) * vx, #dvx/dt\n",
    "        -g - b/m * np.sqrt(vx**2+vy**2) * vy #dvy/dt\n",
    "    ]"
   ]
  },
  {
   "attachments": {},
   "cell_type": "markdown",
   "metadata": {},
   "source": [
    "<font color=\"orange\">Forneça a função e as condições iniciais para solucionar a ODE. Forneça os tempos em que deseja a solução:</font>"
   ]
  },
  {
   "cell_type": "code",
   "execution_count": 6,
   "metadata": {},
   "outputs": [],
   "source": [
    "t= np.linspace(0, 20 ,100) # valor inicial, o valor final e o número de pontos desejados na sequência (100 pontos igualmente espaçados).\n",
    "g = 9.81\n",
    "m = 80\n",
    "vt = -55\n",
    "\n",
    "b = m*g/vt**2\n",
    "v0x, v0y = 50, 0"
   ]
  },
  {
   "cell_type": "code",
   "execution_count": 7,
   "metadata": {},
   "outputs": [],
   "source": [
    "sol = odeint(dSdt, y0=[v0x, v0y], t=t, args=(g, m, b))\n"
   ]
  },
  {
   "cell_type": "code",
   "execution_count": 8,
   "metadata": {},
   "outputs": [],
   "source": [
    "vx = sol.T[0] # T é transposta de uma matriz ou array\n",
    "vy = sol.T[1]"
   ]
  },
  {
   "cell_type": "code",
   "execution_count": 11,
   "metadata": {},
   "outputs": [
    {
     "data": {
      "text/plain": [
       "(numpy.ndarray, numpy.ndarray)"
      ]
     },
     "execution_count": 11,
     "metadata": {},
     "output_type": "execute_result"
    }
   ],
   "source": [
    "type(vx), type(vy)"
   ]
  },
  {
   "cell_type": "code",
   "execution_count": 24,
   "metadata": {},
   "outputs": [
    {
     "data": {
      "image/png": "[encoded data removed]",
      "text/plain": [
       "<Figure size 640x480 with 1 Axes>"
      ]
     },
     "metadata": {},
     "output_type": "display_data"
    }
   ],
   "source": [
    "plt.plot(t, vx)\n",
    "plt.title(\"Variação de $v_x$ ao passas o tempo\", c='blue', size=20)\n",
    "plt.ylabel('$v_x$', c='red', size=15)\n",
    "plt.xlabel(\"$t$\", c='red', size=15)\n",
    "plt.show()\n"
   ]
  },
  {
   "cell_type": "code",
   "execution_count": 27,
   "metadata": {},
   "outputs": [
    {
     "data": {
      "image/png": "[encoded data removed]",
      "text/plain": [
       "<Figure size 640x480 with 1 Axes>"
      ]
     },
     "metadata": {},
     "output_type": "display_data"
    }
   ],
   "source": [
    "plt.plot(t, vy)\n",
    "plt.axhline(vt, color='r')\n",
    "\n",
    "plt.title(\"Variação de $v_y$ ao passas o tempo\", c='blue', size=20)\n",
    "plt.ylabel('$v_y$', c='red', size=15)\n",
    "plt.xlabel(\"$t$\", c='red', size=15)\n",
    "plt.show()\n"
   ]
  },
  {
   "attachments": {},
   "cell_type": "markdown",
   "metadata": {},
   "source": [
    "<font color=\"orange\">Quanto tempo até atingir a velocidade terminal?</font>"
   ]
  },
  {
   "cell_type": "code",
   "execution_count": 37,
   "metadata": {},
   "outputs": [],
   "source": [
    "ind = np.abs(vy - vt)/np.abs(vt) < 0.01\n"
   ]
  },
  {
   "cell_type": "code",
   "execution_count": 38,
   "metadata": {},
   "outputs": [
    {
     "data": {
      "text/plain": [
       "array([False, False, False, False, False, False, False, False, False,\n",
       "       False, False, False, False, False, False, False, False, False,\n",
       "       False, False, False, False, False, False, False, False, False,\n",
       "       False, False, False, False, False, False, False, False, False,\n",
       "       False, False, False, False, False, False, False, False, False,\n",
       "       False, False, False, False, False, False, False, False, False,\n",
       "       False, False, False, False, False, False, False, False, False,\n",
       "       False, False, False, False, False, False, False, False, False,\n",
       "       False, False, False, False, False, False, False, False, False,\n",
       "       False, False, False, False,  True,  True,  True,  True,  True,\n",
       "        True,  True,  True,  True,  True,  True,  True,  True,  True,\n",
       "        True])"
      ]
     },
     "execution_count": 38,
     "metadata": {},
     "output_type": "execute_result"
    }
   ],
   "source": [
    "ind "
   ]
  },
  {
   "cell_type": "code",
   "execution_count": 39,
   "metadata": {},
   "outputs": [
    {
     "data": {
      "text/plain": [
       "array([17.17171717, 17.37373737, 17.57575758, 17.77777778, 17.97979798,\n",
       "       18.18181818, 18.38383838, 18.58585859, 18.78787879, 18.98989899,\n",
       "       19.19191919, 19.39393939, 19.5959596 , 19.7979798 , 20.        ])"
      ]
     },
     "execution_count": 39,
     "metadata": {},
     "output_type": "execute_result"
    }
   ],
   "source": [
    "# Cerca de ~17 segundos você estará de 1% da velocidade terminal\n",
    "\n",
    "t[ind]\n"
   ]
  },
  {
   "cell_type": "code",
   "execution_count": null,
   "metadata": {},
   "outputs": [],
   "source": []
  }
 ],
 "metadata": {
  "kernelspec": {
   "display_name": "env_Fisica",
   "language": "python",
   "name": "python3"
  },
  "language_info": {
   "codemirror_mode": {
    "name": "ipython",
    "version": 3
   },
   "file_extension": ".py",
   "mimetype": "text/x-python",
   "name": "python",
   "nbconvert_exporter": "python",
   "pygments_lexer": "ipython3",
   "version": "3.9.13"
  },
  "orig_nbformat": 4
 },
 "nbformat": 4,
 "nbformat_minor": 2
}
